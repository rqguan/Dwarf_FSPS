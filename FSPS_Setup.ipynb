{
 "cells": [
  {
   "cell_type": "markdown",
   "metadata": {},
   "source": [
    "## Last Update: 2020-6-23\n",
    "2020-06-17 File Created <br>\n",
    "2020-06-17 Run fsps <br>\n",
    "2020-06-23 Find parameters range, creat saving method <br> "
   ]
  },
  {
   "cell_type": "code",
   "execution_count": 1,
   "metadata": {},
   "outputs": [],
   "source": [
    "import numpy as np\n",
    "import matplotlib.pyplot as plt\n",
    "import fsps \n",
    "import sedpy\n",
    "\n",
    "import time\n",
    "\n",
    "import astropy.units as u\n",
    "from astropy.io import ascii\n",
    "from astropy.constants import c, L_sun, pc\n",
    "from astropy.cosmology import FlatLambdaCDM\n",
    "from astropy import units as u\n",
    "from astropy.nddata import StdDevUncertainty\n",
    "from astropy.modeling import models\n",
    "from specutils import Spectrum1D, SpectralRegion\n",
    "from astropy.table import Table, Column"
   ]
  },
  {
   "cell_type": "code",
   "execution_count": 2,
   "metadata": {},
   "outputs": [],
   "source": [
    "#Functions:\n",
    "\n",
    "# parameter gaussian generator: Gaussian => N random number\n",
    "\n",
    "# single sps: parameters => SED => SDSS filters => color\n",
    "# Parameter => SDSS Color\n",
    "# Parameter => SED => EW\n",
    "\n",
    "# multi sps: single sps x N => color plot, EW plot\n",
    "# sdss: SDSS color, EW\n",
    "# error: (fsps, sdss) => error value"
   ]
  },
  {
   "cell_type": "markdown",
   "metadata": {},
   "source": [
    "## Random Gaussian Generator"
   ]
  },
  {
   "cell_type": "code",
   "execution_count": 3,
   "metadata": {},
   "outputs": [
    {
     "data": {
      "text/plain": [
       "<matplotlib.collections.PathCollection at 0xb587d4080>"
      ]
     },
     "execution_count": 3,
     "metadata": {},
     "output_type": "execute_result"
    },
    {
     "data": {
      "image/png": "[encoded data removed]",
      "text/plain": [
       "<Figure size 432x288 with 1 Axes>"
      ]
     },
     "metadata": {
      "needs_background": "light"
     },
     "output_type": "display_data"
    }
   ],
   "source": [
    "n = 1000\n",
    "x = np.linspace(0,9,n)\n",
    "y = np.random.normal(1,1,n)\n",
    "plt.scatter(x,y)"
   ]
  },
  {
   "cell_type": "markdown",
   "metadata": {},
   "source": [
    "## Parameter Ranges"
   ]
  },
  {
   "cell_type": "code",
   "execution_count": null,
   "metadata": {},
   "outputs": [],
   "source": [
    "# emission\n",
    "esp = fsps.StellarPopulation(zcontinuous=1, add_neb_emission=1)"
   ]
  },
  {
   "cell_type": "code",
   "execution_count": 49,
   "metadata": {},
   "outputs": [],
   "source": [
    "# Constants: \n",
    "redshift= 0.05\n",
    "age_mea = 13.7 #age_st<age_en in Gyr\n",
    "sdss_bands = fsps.find_filter('SDSS')\n",
    "\n",
    "\n",
    "# Variables: \n",
    "age_st = 12.7\n",
    "metal=-0.8 #0=1.0  /-0.2218=0.6   /-0.522=0.3   /-1=0.1\n",
    "ion = -2.5\n",
    "SFR = 0.1 #fraction of mass formed in a constant mode of SF\n",
    "eftime = 100 #e-folding time"
   ]
  },
  {
   "cell_type": "code",
   "execution_count": 50,
   "metadata": {},
   "outputs": [],
   "source": [
    "# set redshift\n",
    "#esp.params['zred'] = redshift\n",
    "\n",
    "# set parameter for star model\n",
    "esp.params['imf_type'] = 2 #milky way\n",
    "\n",
    "# set masscut\n",
    "#esp.params['masscut'] = 0. #Defualt is 150.\n",
    "\n",
    "# set stellar metallicity\n",
    "esp.params['logzsol'] = metal\n",
    "# set parameters for nebular model\n",
    "esp.params['gas_logz'] = metal # gas metallicity\n",
    "esp.params['gas_logu'] = ion # ionization parameter\n",
    "\n",
    "#SFH setting\n",
    "esp.params['sfh'] = 1 #six parameter SFH\n",
    "esp.params['tau'] = eftime #e-folding time: μ=e^(-t/τ)\n",
    "esp.params['const'] = SFR #fraction of mass formed in a constant mode of SF\n",
    "esp.params['sf_start'] = age_st #1Gyr"
   ]
  },
  {
   "cell_type": "code",
   "execution_count": 51,
   "metadata": {},
   "outputs": [
    {
     "data": {
      "text/plain": [
       "array([3.4328946 , 2.92158359, 2.92904814, 3.12344454, 3.09328085])"
      ]
     },
     "execution_count": 51,
     "metadata": {},
     "output_type": "execute_result"
    }
   ],
   "source": [
    "esp.get_mags(tage=age_mea, bands=sdss_bands)"
   ]
  },
  {
   "cell_type": "code",
   "execution_count": 40,
   "metadata": {},
   "outputs": [],
   "source": []
  },
  {
   "cell_type": "code",
   "execution_count": null,
   "metadata": {},
   "outputs": [],
   "source": []
  }
 ],
 "metadata": {
  "kernelspec": {
   "display_name": "Python 3",
   "language": "python",
   "name": "python3"
  },
  "language_info": {
   "codemirror_mode": {
    "name": "ipython",
    "version": 3
   },
   "file_extension": ".py",
   "mimetype": "text/x-python",
   "name": "python",
   "nbconvert_exporter": "python",
   "pygments_lexer": "ipython3",
   "version": "3.7.3"
  }
 },
 "nbformat": 4,
 "nbformat_minor": 2
}
