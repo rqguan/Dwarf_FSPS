{
 "cells": [
  {
   "cell_type": "markdown",
   "metadata": {},
   "source": [
    "## Last Update: 2020-6-23\n",
    "2020-06-17 File Created <br>\n",
    "2020-06-17 Run fsps <br>\n",
    "2020-06-23 Find parameters range, creat saving method <br> "
   ]
  },
  {
   "cell_type": "code",
   "execution_count": 7,
   "metadata": {},
   "outputs": [
    {
     "name": "stdout",
     "output_type": "stream",
     "text": [
      "The autoreload extension is already loaded. To reload it, use:\n",
      "  %reload_ext autoreload\n"
     ]
    }
   ],
   "source": [
    "%matplotlib inline\n",
    "%load_ext autoreload\n",
    "%autoreload 2\n",
    "# Cell magic method always stays at the top of the cell\n",
    "\n",
    "# Imports from the Python standard library should be at the top\n",
    "import os\n",
    "import copy\n",
    "import pickle\n",
    "import itertools \n",
    "import corner\n",
    "\n",
    "# Do not import * unless you know what you are doing\n",
    "import numpy as np \n",
    "import pandas as pd\n",
    "\n",
    "import fsps\n",
    "import sedpy\n",
    "import lineid_plot\n",
    "\n",
    "from sedpy.observate import getSED, vac2air, air2vac\n",
    "\n",
    "import matplotlib.pyplot as plt\n",
    "from matplotlib import rc\n",
    "plt.rc('text', usetex=True)\n",
    "\n",
    "import astropy.units as u\n",
    "from astropy.io import ascii\n",
    "from astropy.table import Table, Column\n",
    "from astropy.constants import c, L_sun, pc\n",
    "from astropy.cosmology import FlatLambdaCDM\n",
    "from astropy.io import fits\n",
    "\n",
    "from specutils import Spectrum1D\n",
    "from specutils import SpectralRegion\n",
    "from specutils.fitting import fit_generic_continuum\n",
    "from specutils.analysis import equivalent_width\n",
    "\n",
    "from prospect import models\n",
    "from prospect.models import priors\n",
    "\n",
    "import torch\n",
    "import torch.nn as nn\n",
    "\n",
    "from scipy.stats import entropy\n",
    "\n",
    "# re-defining plotting defaults\n",
    "from matplotlib import rcParams\n",
    "\n",
    "from dwarf_models import SDSS_EMLINES, simulate_dwarf_sed, test_single_model,\\\n",
    "    sigma_clipping_continuum, measure_ew_emission_line, design_model_grid,\\\n",
    "    generate_dwarf_population, measure_color_ew, plot_models_with_sdss, setup_fsps_spop,\\\n",
    "    corner_plot, entropy, data_to_distribution\n",
    "\n",
    "rcParams.update({'xtick.major.pad': '7.0'})\n",
    "rcParams.update({'xtick.major.size': '7.5'})\n",
    "rcParams.update({'xtick.major.width': '1.5'})\n",
    "rcParams.update({'xtick.minor.pad': '7.0'})\n",
    "rcParams.update({'xtick.minor.size': '3.5'})\n",
    "rcParams.update({'xtick.minor.width': '1.0'})\n",
    "rcParams.update({'ytick.major.pad': '7.0'})\n",
    "rcParams.update({'ytick.major.size': '7.5'})\n",
    "rcParams.update({'ytick.major.width': '1.5'})\n",
    "rcParams.update({'ytick.minor.pad': '7.0'})\n",
    "rcParams.update({'ytick.minor.size': '3.5'})\n",
    "rcParams.update({'ytick.minor.width': '1.0'})\n",
    "rcParams.update({'axes.titlepad': '15.0'})\n",
    "rcParams.update({'font.size': 22})\n",
    "\n",
    "\n",
    "\n",
    "ORG = plt.get_cmap('OrRd')\n",
    "ORG_2 = plt.get_cmap('YlOrRd')\n",
    "BLU = plt.get_cmap('PuBu')"
   ]
  },
  {
   "cell_type": "markdown",
   "metadata": {},
   "source": [
    "### Read in the SDSS catalog"
   ]
  },
  {
   "cell_type": "code",
   "execution_count": 2,
   "metadata": {},
   "outputs": [],
   "source": [
    "sdss_cat = Table.read('/Users/runquanguan/Documents/Dwarf_SDSS_8_9_SF_v2.0.fits')\n",
    "\n",
    "em_flag = (np.isfinite(sdss_cat['M_u']) & np.isfinite(sdss_cat['M_r']) & \\\n",
    "           np.isfinite(sdss_cat['M_g']) & np.isfinite(sdss_cat['M_i']) &\\\n",
    "           np.isfinite(sdss_cat['OIII_5007_EQW']) & \\\n",
    "           np.isfinite(sdss_cat['H_ALPHA_EQW']) &\\\n",
    "           np.isfinite(sdss_cat['H_BETA_EQW']))\n",
    "\n",
    "sdss_use = sdss_cat[em_flag]\n",
    "\n",
    "\n",
    "SDSS_EMLINES = {\\\n",
    "    'OII_3726': {'cen':3726.032, 'low':3717.0, 'upp':3737.0},\\\n",
    "    'OII_3729': {'cen':3728.815, 'low':3717.0, 'upp':3737.0},\\\n",
    "    'NeIII_3869': {'cen':3869.060, 'low':3859.0, 'upp':3879.0}, \\\n",
    "    'H_delta': {'cen':4101.734, 'low':4092.0, 'upp':4111.0},\\\n",
    "    'H_gamma': {'cen':4340.464, 'low':4330.0, 'upp':4350.0},\\\n",
    "    'OIII_4363': {'cen':4363.210, 'low':4350.0, 'upp':4378.0},\\\n",
    "    'H_beta': {'cen':4861.325, 'low':4851.0, 'upp':4871.0},\\\n",
    "    'OIII_4959': {'cen':4958.911, 'low':4949.0, 'upp':4969.0},\\\n",
    "    'OIII_5007': {'cen':5006.843, 'low':4997.0, 'upp':5017.0},\\\n",
    "    'HeI_5876': {'cen':5875.67, 'low':5866.0, 'upp':5886.0},\\\n",
    "    'OI_6300': {'cen':6300.304, 'low':6290.0, 'upp':6310.0},\\\n",
    "    'NII_6548': {'cen':6548.040, 'low':6533.0, 'upp':6553.0},\\\n",
    "    'H_alpha': {'cen':6562.800, 'low':6553.0, 'upp':6573.0},\\\n",
    "    'NII_6584': {'cen':6583.460, 'low':6573.0, 'upp':6593.0},\\\n",
    "    'SII_6717': {'cen':6716.440, 'low':6704.0, 'upp':6724.0},\\\n",
    "    'SII_6731': {'cen':6730.810, 'low':6724.0, 'upp':6744.0},\\\n",
    "    'ArIII7135': {'cen':7135.8, 'low':7130.0, 'upp':7140.0}\n",
    "}\n"
   ]
  },
  {
   "cell_type": "markdown",
   "metadata": {},
   "source": [
    "### Procedure to generate model"
   ]
  },
  {
   "cell_type": "code",
   "execution_count": 3,
   "metadata": {},
   "outputs": [],
   "source": [
    "# Gaussian distribution with boundary as prior for key parameters\n",
    "set_size = 5000\n",
    "\n",
    "\n",
    "tau_arr = [float(priors.ClippedNormal(mean=2.6, sigma=0.3, mini=1.0, maxi=8.0).sample()) for _ in range(set_size)]\n",
    "const_arr =  [float(priors.ClippedNormal(mean=0.3, sigma=0.1, mini=0.0, maxi=0.49).sample()) for _ in range(set_size)]\n",
    "tage_arr =  [float(priors.ClippedNormal(mean=6.5, sigma=0.3, mini=1.0, maxi=11.0).sample()) for _ in range(set_size)]\n",
    "fburst_arr =  [float(priors.ClippedNormal(mean=0.6, sigma=0.1, mini=0.0, maxi=0.8).sample()) for _ in range(set_size)]\n",
    "tburst_arr =  [float(priors.ClippedNormal(mean=5.0, sigma=0.5, mini=0.0, maxi=8.0).sample()) for _ in range(set_size)]\n",
    "logzsol_arr =  [float(priors.ClippedNormal(mean=-0.8, sigma=0.5, mini=-1.5, maxi=0.0).sample()) for _ in range(set_size)]\n",
    "gas_logz_arr =  [float(priors.ClippedNormal(mean=-0.5, sigma=0.5, mini=-1.5, maxi=0.0).sample()) for _ in range(set_size)]\n",
    "gas_logu_arr =  [float(priors.ClippedNormal(mean=-3.2, sigma=0.5, mini=-4.0, maxi=-1.0).sample()) for _ in range(set_size)]\n",
    "\n",
    "# Fix the fburst + const > 1 issue\n",
    "for ii in np.arange(len(const_arr)):\n",
    "    if const_arr[ii] + fburst_arr[ii] >= 0.95:\n",
    "        f_over = (const_arr[ii] + fburst_arr[ii]) - 0.95\n",
    "        if fburst_arr[ii] >= (f_over + 0.01):\n",
    "            fburst_arr[ii] = fburst_arr[ii] - (f_over + 0.01)\n",
    "        else:\n",
    "            const_arr[ii] = const_arr[ii] - (f_over + 0.01)\n",
    "\n",
    "# Fixed the rest\n",
    "dust1_arr = np.full(set_size, 0.1)\n",
    "dust2_arr = np.full(set_size, 0.0)\n",
    "sf_trunc_arr = np.full(set_size, 0.0)\n",
    "\n",
    "# List of model parameters\n",
    "dwarf_sample_parameters = [\n",
    "     {\n",
    "         'dust1': dust1_arr[ii], \n",
    "         'dust2': dust2_arr[ii],\n",
    "         'logzsol': logzsol_arr[ii], \n",
    "         'gas_logz': gas_logz_arr[ii], \n",
    "         'gas_logu': gas_logu_arr[ii],\n",
    "         'const': const_arr[ii], \n",
    "         'tau': tau_arr[ii], \n",
    "         'tage': tage_arr[ii],\n",
    "         'sf_trunc': sf_trunc_arr[ii], \n",
    "         'fburst': fburst_arr[ii], \n",
    "         'tburst': tburst_arr[ii]\n",
    "     } for ii in np.arange(set_size)\n",
    "]\n",
    "\n",
    "# Double check\n",
    "for ii, model in enumerate(dwarf_sample_parameters):\n",
    "    if model['fburst'] + model['const'] >= 0.99:\n",
    "        print(ii, model['fburst'], model['const'])"
   ]
  },
  {
   "cell_type": "code",
   "execution_count": 4,
   "metadata": {},
   "outputs": [
    {
     "name": "stdout",
     "output_type": "stream",
     "text": [
      "# Done!\n"
     ]
    }
   ],
   "source": [
    "# Initialize the spop model\n",
    "spop_tau = setup_fsps_spop(\n",
    "    zcontinuous=1, imf_type=2, sfh=1, dust_type=0, \n",
    "    dust_index=-1.3, dust1_index=-1.0)\n",
    "\n",
    "# Get the SDSS filters\n",
    "sdss_bands = fsps.find_filter('SDSS')\n",
    "\n",
    "print(\"# Done!\")"
   ]
  },
  {
   "cell_type": "code",
   "execution_count": 5,
   "metadata": {},
   "outputs": [
    {
     "name": "stdout",
     "output_type": "stream",
     "text": [
      "# Will use multi-processing with 4 cores!\n",
      "# Model spectra are generated !\n",
      "Job finished!\n"
     ]
    }
   ],
   "source": [
    "# Generate model spectra and seds\n",
    "dwarf_sample_gaussian = generate_dwarf_population(\n",
    "    spop_tau, dwarf_sample_parameters, filters=sdss_bands, n_jobs=4)\n",
    "\n",
    "print(\"# Model spectra are generated !\")\n",
    "\n",
    "# Measure colors and emission line EWs\n",
    "# - SDSS_EMLINES is a pre-defined dict of emission lines center wavelength and the \n",
    "# wavelength window for measuring EW.\n",
    "# - You can save the results in a numpy array\n",
    "dwarf_sample_table = measure_color_ew(\n",
    "    dwarf_sample_gaussian, em_list=SDSS_EMLINES, output=None)\n",
    "\n",
    "print(\"Job finished!\")"
   ]
  },
  {
   "cell_type": "markdown",
   "metadata": {},
   "source": [
    "# Make a summary plot\n",
    "_ = plot_models_with_sdss(\n",
    "    dwarf_sample_table, sdss_use, wave_min=3720, wave_max=7225,\n",
    "    size_symbol=15, alpha_spec=0.2, alpha_symbol=0.2, ecolor_symbol='none')"
   ]
  },
  {
   "cell_type": "markdown",
   "metadata": {},
   "source": [
    "## K-L Entropy\n"
   ]
  },
  {
   "cell_type": "code",
   "execution_count": 8,
   "metadata": {},
   "outputs": [
    {
     "name": "stderr",
     "output_type": "stream",
     "text": [
      "/Users/runquanguan/anaconda3/lib/python3.7/site-packages/ipykernel_launcher.py:15: RuntimeWarning: divide by zero encountered in log10\n",
      "  from ipykernel import kernelapp as app\n",
      "/Users/runquanguan/anaconda3/lib/python3.7/site-packages/ipykernel_launcher.py:15: RuntimeWarning: invalid value encountered in log10\n",
      "  from ipykernel import kernelapp as app\n",
      "/Users/runquanguan/anaconda3/lib/python3.7/site-packages/ipykernel_launcher.py:16: RuntimeWarning: divide by zero encountered in log10\n",
      "  app.launch_new_instance()\n",
      "/Users/runquanguan/anaconda3/lib/python3.7/site-packages/ipykernel_launcher.py:16: RuntimeWarning: invalid value encountered in log10\n",
      "  app.launch_new_instance()\n",
      "/Users/runquanguan/anaconda3/lib/python3.7/site-packages/ipykernel_launcher.py:17: RuntimeWarning: divide by zero encountered in log10\n",
      "/Users/runquanguan/anaconda3/lib/python3.7/site-packages/ipykernel_launcher.py:17: RuntimeWarning: invalid value encountered in log10\n"
     ]
    },
    {
     "ename": "NameError",
     "evalue": "name 'torch' is not defined",
     "output_type": "error",
     "traceback": [
      "\u001b[0;31m---------------------------------------------------------------------------\u001b[0m",
      "\u001b[0;31mNameError\u001b[0m                                 Traceback (most recent call last)",
      "\u001b[0;32m<ipython-input-8-4aa649d49103>\u001b[0m in \u001b[0;36m<module>\u001b[0;34m\u001b[0m\n\u001b[1;32m     36\u001b[0m \u001b[0;34m\u001b[0m\u001b[0m\n\u001b[1;32m     37\u001b[0m \u001b[0;34m\u001b[0m\u001b[0m\n\u001b[0;32m---> 38\u001b[0;31m \u001b[0mtotal_loss\u001b[0m \u001b[0;34m=\u001b[0m \u001b[0mentropy\u001b[0m\u001b[0;34m(\u001b[0m\u001b[0mobs\u001b[0m \u001b[0;34m=\u001b[0m \u001b[0mobs_stack\u001b[0m\u001b[0;34m,\u001b[0m \u001b[0mmodel\u001b[0m \u001b[0;34m=\u001b[0m \u001b[0mmodel_stack\u001b[0m\u001b[0;34m)\u001b[0m\u001b[0;34m\u001b[0m\u001b[0;34m\u001b[0m\u001b[0m\n\u001b[0m",
      "\u001b[0;32m~/Documents/Dwarf_FSPS/Dwarf_FSPS/dwarf_models.py\u001b[0m in \u001b[0;36mentropy\u001b[0;34m(obs, model)\u001b[0m\n\u001b[1;32m    910\u001b[0m \u001b[0;32mdef\u001b[0m \u001b[0mentropy\u001b[0m\u001b[0;34m(\u001b[0m\u001b[0mobs\u001b[0m\u001b[0;34m,\u001b[0m \u001b[0mmodel\u001b[0m\u001b[0;34m)\u001b[0m\u001b[0;34m:\u001b[0m\u001b[0;34m\u001b[0m\u001b[0;34m\u001b[0m\u001b[0m\n\u001b[1;32m    911\u001b[0m \u001b[0;34m\u001b[0m\u001b[0m\n\u001b[0;32m--> 912\u001b[0;31m     \u001b[0mx\u001b[0m \u001b[0;34m=\u001b[0m \u001b[0mtorch\u001b[0m\u001b[0;34m.\u001b[0m\u001b[0mtensor\u001b[0m\u001b[0;34m(\u001b[0m\u001b[0;34m[\u001b[0m\u001b[0mobs\u001b[0m\u001b[0;34m]\u001b[0m\u001b[0;34m)\u001b[0m\u001b[0;34m\u001b[0m\u001b[0;34m\u001b[0m\u001b[0m\n\u001b[0m\u001b[1;32m    913\u001b[0m     \u001b[0my\u001b[0m \u001b[0;34m=\u001b[0m \u001b[0mtorch\u001b[0m\u001b[0;34m.\u001b[0m\u001b[0mtensor\u001b[0m\u001b[0;34m(\u001b[0m\u001b[0;34m[\u001b[0m\u001b[0mmodel\u001b[0m\u001b[0;34m]\u001b[0m\u001b[0;34m)\u001b[0m\u001b[0;34m\u001b[0m\u001b[0;34m\u001b[0m\u001b[0m\n\u001b[1;32m    914\u001b[0m \u001b[0;34m\u001b[0m\u001b[0m\n",
      "\u001b[0;31mNameError\u001b[0m: name 'torch' is not defined"
     ]
    }
   ],
   "source": [
    "bin_size = 100\n",
    "\n",
    "ur_size = np.linspace(0,2.5,bin_size)\n",
    "ug_size = np.linspace(0,1.75,bin_size)\n",
    "gr_size = np.linspace(-0.1,0.8,bin_size)\n",
    "gi_size = np.linspace(-0.2,1.2,bin_size)\n",
    "ha_size = np.linspace(0,3,bin_size)\n",
    "hb_size = np.linspace(-0.5,2.5,bin_size)\n",
    "oiii_size = np.linspace(-1,3,bin_size)\n",
    "\n",
    "obs_ur = data_to_distribution(np.asarray(sdss_use['M_u'] - sdss_use['M_r']), ur_size)\n",
    "obs_ug = data_to_distribution(np.asarray(sdss_use['M_u'] - sdss_use['M_g']), ug_size)\n",
    "obs_gr = data_to_distribution(np.asarray(sdss_use['M_g'] - sdss_use['M_r']), gr_size)\n",
    "obs_gi = data_to_distribution(np.asarray(sdss_use['M_g'] - sdss_use['M_i']), gi_size)\n",
    "obs_ha = data_to_distribution(np.log10(-1.0*sdss_use['H_ALPHA_EQW']), ha_size)\n",
    "obs_hb = data_to_distribution(np.log10(-1.0*sdss_use['H_BETA_EQW']), hb_size)\n",
    "obs_oiii = data_to_distribution(np.log10(-1.0 * (sdss_use['OIII_5007_EQW'])), oiii_size)\n",
    "\n",
    "model_ur = data_to_distribution(dwarf_sample_table['ur_color'], ur_size)\n",
    "model_ug = data_to_distribution(dwarf_sample_table['ug_color'], ug_size)\n",
    "model_gr = data_to_distribution(dwarf_sample_table['gr_color'], gr_size)\n",
    "model_gi = data_to_distribution(dwarf_sample_table['gi_color'], gi_size)\n",
    "model_ha = data_to_distribution(np.log10(np.log10(dwarf_sample_table['ew_halpha'])), ha_size)\n",
    "model_hb = data_to_distribution(np.log10(dwarf_sample_table['ew_hbeta']), hb_size)\n",
    "model_oiii = data_to_distribution(np.log10(dwarf_sample_table['ew_oiii_5007']), oiii_size)\n",
    "\n",
    "obs_stack = np.transpose(np.vstack([obs_ur, obs_ug, obs_gr, \n",
    "                                    obs_gi, obs_ha, obs_hb, \n",
    "                                    obs_oiii]))\n",
    "\n",
    "model_stack = np.transpose(np.vstack([model_ur, model_ug, model_gr, \n",
    "                                    model_gi, model_ha, model_hb, \n",
    "                                    model_oiii]))\n",
    "\n",
    "\n",
    "\n",
    "\n",
    "total_loss = entropy(obs = obs_stack, model = model_stack)"
   ]
  },
  {
   "cell_type": "markdown",
   "metadata": {},
   "source": [
    "## Corner Plot"
   ]
  },
  {
   "cell_type": "code",
   "execution_count": null,
   "metadata": {},
   "outputs": [],
   "source": [
    "models = dwarf_sample_table\n",
    "sdss_data = sdss_use\n",
    "\n",
    "\n",
    "sdss_ug = np.array(sdss_data['M_u'] - sdss_data['M_g'])\n",
    "sdss_gr = np.array(sdss_data['M_g'] - sdss_data['M_r'])\n",
    "sdss_ur = np.array(sdss_data['M_u'] - sdss_data['M_r'])\n",
    "sdss_gi = np.array(sdss_data['M_g'] - sdss_data['M_i'])\n",
    "sdss_HA = np.array(np.log10(-1.0 * (sdss_data['H_ALPHA_EQW'])))\n",
    "sdss_HB = np.array(np.log10(-1.0 * (sdss_data['H_BETA_EQW'])))\n",
    "sdss_OIII =  np.array(np.log10(-1.0 * (sdss_data['OIII_5007_EQW'])))\n",
    "\n",
    "data = np.transpose(np.vstack([sdss_ug, sdss_gr, sdss_ur, sdss_gi, sdss_HA, sdss_HB, sdss_OIII]))\n",
    "\n",
    "figure = corner.corner(data, labels=[r'$u-g\\ [\\mathrm{mag}]$',\n",
    "                                     r'$g-r\\ [\\mathrm{mag}]$',\n",
    "                                     r'$u-r\\ [\\mathrm{mag}]$', \n",
    "                                     r'$g-i\\ [\\mathrm{mag}]$',\n",
    "                                     r'$\\log\\ \\mathrm{EW(H}\\alpha)\\ \\AA$',\n",
    "                                     r'$\\log\\ \\mathrm{EW(H}\\beta)\\ \\AA$',\n",
    "                                     r'$\\log\\ \\mathrm{EW([OIII])}\\ \\AA$'],\n",
    "                       range = [(0,1.75),(-0.1,0.8),(0,2.5),(-0.2,1.2),(0,3),(-0.5,2.5),(-1,3)],\n",
    "                       bins=40, color=BLU(0.7),\n",
    "                       smooth=2, \n",
    "                       label_kwargs={'fontsize': 16},\n",
    "                       quantiles=[0.16, 0.5, 0.84],\n",
    "                       levels=[0.16, 0.50, 0.84],\n",
    "                       plot_contours=True,\n",
    "                       fill_contours=True,\n",
    "                       show_titles=True,\n",
    "                       title_kwargs={\"fontsize\": 20},\n",
    "                       hist_kwargs={\"histtype\": 'stepfilled', \"alpha\": 0.5,\n",
    "                                     \"edgecolor\": \"none\"},\n",
    "                       use_math_text=True)"
   ]
  },
  {
   "cell_type": "code",
   "execution_count": null,
   "metadata": {},
   "outputs": [],
   "source": [
    "\n",
    "\n",
    "model_ug = np.array(models['ug_color'])\n",
    "model_gr = np.array(models['gr_color'])\n",
    "model_ur = np.array(models['ur_color'])\n",
    "model_gi = np.array(models['gi_color'])\n",
    "model_HA = np.array(np.log10(models['ew_halpha']))\n",
    "model_HB = np.array(np.log10(models['ew_hbeta']))\n",
    "model_OIII = np.array(np.log10(models['ew_oiii_5007']))\n",
    "\n",
    "\n",
    "model_sample = np.transpose(np.vstack([model_ug, model_gr, model_ur, model_gi, model_HA, model_HB, model_OIII]))\n",
    "\n",
    "figure_overlap = corner.corner(model_sample, \n",
    "                               fig = figure,\n",
    "                               labels=[r'$u-g\\ [\\mathrm{mag}]$',\n",
    "                                     r'$g-r\\ [\\mathrm{mag}]$',\n",
    "                                     r'$u-r\\ [\\mathrm{mag}]$', \n",
    "                                     r'$g-i\\ [\\mathrm{mag}]$',\n",
    "                                     r'$\\log\\ \\mathrm{EW(H}\\alpha)\\ \\AA$',\n",
    "                                     r'$\\log\\ \\mathrm{EW(H}\\beta)\\ \\AA$',\n",
    "                                     r'$\\log\\ \\mathrm{EW([OIII])}\\ \\AA$'],\n",
    "                               range = [(0,1.75),(-0.1,0.8),(0,2.5),(-0.2,1.2),(0,3),(-0.5,2.5),(-1,3)],\n",
    "                       bins=40, color=ORG(0.7),\n",
    "                       smooth=2, \n",
    "                       label_kwargs={'fontsize': 16},\n",
    "                       quantiles=[0.16, 0.5, 0.84],\n",
    "                       levels=[0.16, 0.50, 0.84],\n",
    "                       plot_contours=True,\n",
    "                       fill_contours=True,\n",
    "                       show_titles=True,\n",
    "                       title_kwargs={\"fontsize\": 20},\n",
    "                       hist_kwargs={\"histtype\": 'stepfilled', \"alpha\": 0.5,\n",
    "                                     \"edgecolor\": \"none\"},\n",
    "                       use_math_text=True)\n",
    "\n",
    "\n",
    "figure_overlap"
   ]
  },
  {
   "cell_type": "code",
   "execution_count": null,
   "metadata": {},
   "outputs": [],
   "source": []
  }
 ],
 "metadata": {
  "kernelspec": {
   "display_name": "Python 3",
   "language": "python",
   "name": "python3"
  },
  "language_info": {
   "codemirror_mode": {
    "name": "ipython",
    "version": 3
   },
   "file_extension": ".py",
   "mimetype": "text/x-python",
   "name": "python",
   "nbconvert_exporter": "python",
   "pygments_lexer": "ipython3",
   "version": "3.7.3"
  }
 },
 "nbformat": 4,
 "nbformat_minor": 2
}
