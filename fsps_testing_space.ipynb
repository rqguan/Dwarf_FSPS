{
 "cells": [
  {
   "cell_type": "code",
   "execution_count": 9,
   "metadata": {},
   "outputs": [],
   "source": [
    "import corner\n",
    "import numpy as np\n",
    "from matplotlib.pyplot import plot as plt\n"
   ]
  },
  {
   "cell_type": "code",
   "execution_count": 8,
   "metadata": {},
   "outputs": [],
   "source": [
    "test_data = np.random.rand(10000)\n",
    "test_size = np.linspace(-0.5,2.5,200)"
   ]
  },
  {
   "cell_type": "code",
   "execution_count": 2,
   "metadata": {},
   "outputs": [],
   "source": [
    "def data_to_distribution(data, bin_size):\n",
    "    \n",
    "    data_hist = np.histogram(data, bins = bin_size)[0]\n",
    "\n",
    "    data_hist_norm = np.array([float(i+1e-4)/sum(data_hist) for i in data_hist])\n",
    "\n",
    "    return data_hist_norm"
   ]
  },
  {
   "cell_type": "code",
   "execution_count": 9,
   "metadata": {},
   "outputs": [
    {
     "data": {
      "text/plain": [
       "array([1.000000e-08, 1.000000e-08, 1.000000e-08, 1.000000e-08,\n",
       "       1.000000e-08, 1.000000e-08, 1.000000e-08, 1.000000e-08,\n",
       "       1.000000e-08, 1.000000e-08, 1.000000e-08, 1.000000e-08,\n",
       "       1.000000e-08, 1.000000e-08, 1.000000e-08, 1.000000e-08,\n",
       "       1.000000e-08, 1.000000e-08, 1.000000e-08, 1.000000e-08,\n",
       "       1.000000e-08, 1.000000e-08, 1.000000e-08, 1.000000e-08,\n",
       "       1.000000e-08, 1.000000e-08, 1.000000e-08, 1.000000e-08,\n",
       "       1.000000e-08, 1.000000e-08, 1.000000e-08, 1.000000e-08,\n",
       "       1.000000e-08, 9.900010e-03, 1.390001e-02, 1.360001e-02,\n",
       "       1.650001e-02, 1.750001e-02, 1.520001e-02, 1.570001e-02,\n",
       "       1.460001e-02, 1.260001e-02, 1.530001e-02, 1.530001e-02,\n",
       "       1.460001e-02, 1.690001e-02, 1.510001e-02, 1.430001e-02,\n",
       "       1.510001e-02, 1.310001e-02, 1.790001e-02, 1.370001e-02,\n",
       "       1.410001e-02, 1.450001e-02, 1.710001e-02, 1.640001e-02,\n",
       "       1.580001e-02, 1.470001e-02, 1.600001e-02, 1.610001e-02,\n",
       "       1.530001e-02, 1.480001e-02, 1.540001e-02, 1.450001e-02,\n",
       "       1.640001e-02, 1.460001e-02, 1.550001e-02, 1.560001e-02,\n",
       "       1.640001e-02, 1.350001e-02, 1.560001e-02, 1.310001e-02,\n",
       "       1.410001e-02, 1.300001e-02, 1.440001e-02, 1.480001e-02,\n",
       "       1.440001e-02, 1.570001e-02, 1.660001e-02, 1.450001e-02,\n",
       "       1.550001e-02, 1.480001e-02, 1.480001e-02, 1.520001e-02,\n",
       "       1.390001e-02, 1.540001e-02, 1.590001e-02, 1.520001e-02,\n",
       "       1.430001e-02, 1.590001e-02, 1.480001e-02, 1.450001e-02,\n",
       "       1.670001e-02, 1.560001e-02, 1.500001e-02, 1.550001e-02,\n",
       "       1.670001e-02, 1.430001e-02, 1.560001e-02, 6.700010e-03,\n",
       "       1.000000e-08, 1.000000e-08, 1.000000e-08, 1.000000e-08,\n",
       "       1.000000e-08, 1.000000e-08, 1.000000e-08, 1.000000e-08,\n",
       "       1.000000e-08, 1.000000e-08, 1.000000e-08, 1.000000e-08,\n",
       "       1.000000e-08, 1.000000e-08, 1.000000e-08, 1.000000e-08,\n",
       "       1.000000e-08, 1.000000e-08, 1.000000e-08, 1.000000e-08,\n",
       "       1.000000e-08, 1.000000e-08, 1.000000e-08, 1.000000e-08,\n",
       "       1.000000e-08, 1.000000e-08, 1.000000e-08, 1.000000e-08,\n",
       "       1.000000e-08, 1.000000e-08, 1.000000e-08, 1.000000e-08,\n",
       "       1.000000e-08, 1.000000e-08, 1.000000e-08, 1.000000e-08,\n",
       "       1.000000e-08, 1.000000e-08, 1.000000e-08, 1.000000e-08,\n",
       "       1.000000e-08, 1.000000e-08, 1.000000e-08, 1.000000e-08,\n",
       "       1.000000e-08, 1.000000e-08, 1.000000e-08, 1.000000e-08,\n",
       "       1.000000e-08, 1.000000e-08, 1.000000e-08, 1.000000e-08,\n",
       "       1.000000e-08, 1.000000e-08, 1.000000e-08, 1.000000e-08,\n",
       "       1.000000e-08, 1.000000e-08, 1.000000e-08, 1.000000e-08,\n",
       "       1.000000e-08, 1.000000e-08, 1.000000e-08, 1.000000e-08,\n",
       "       1.000000e-08, 1.000000e-08, 1.000000e-08, 1.000000e-08,\n",
       "       1.000000e-08, 1.000000e-08, 1.000000e-08, 1.000000e-08,\n",
       "       1.000000e-08, 1.000000e-08, 1.000000e-08, 1.000000e-08,\n",
       "       1.000000e-08, 1.000000e-08, 1.000000e-08, 1.000000e-08,\n",
       "       1.000000e-08, 1.000000e-08, 1.000000e-08, 1.000000e-08,\n",
       "       1.000000e-08, 1.000000e-08, 1.000000e-08, 1.000000e-08,\n",
       "       1.000000e-08, 1.000000e-08, 1.000000e-08, 1.000000e-08,\n",
       "       1.000000e-08, 1.000000e-08, 1.000000e-08, 1.000000e-08,\n",
       "       1.000000e-08, 1.000000e-08, 1.000000e-08])"
      ]
     },
     "execution_count": 9,
     "metadata": {},
     "output_type": "execute_result"
    }
   ],
   "source": [
    "data_to_distribution(test_data, test_size)"
   ]
  },
  {
   "cell_type": "code",
   "execution_count": 1,
   "metadata": {},
   "outputs": [],
   "source": [
    "from hyperopt import hp, fmin, rand, tpe, space_eval"
   ]
  },
  {
   "cell_type": "code",
   "execution_count": 15,
   "metadata": {},
   "outputs": [
    {
     "data": {
      "text/plain": [
       "<hyperopt.pyll.base.Apply at 0x7fea9f306048>"
      ]
     },
     "execution_count": 15,
     "metadata": {},
     "output_type": "execute_result"
    }
   ],
   "source": [
    "hp.normal('tau_sig', 0.7, 0.2)"
   ]
  },
  {
   "cell_type": "code",
   "execution_count": null,
   "metadata": {},
   "outputs": [],
   "source": [
    "space = [hp.normal('tau_mean', 2.6, 0.7),\n",
    "         hp.normal('const_mean', 0.3, 0.5),\n",
    "         hp.normal('tage_mean', 6.5, 2.0),\n",
    "         hp.normal('fburst_mean', 0.6, 0.1),\n",
    "         hp.normal('tburst_mean', 5.0, 0.5),\n",
    "         hp.normal('logzsol_mean', -0.8, 0.7),\n",
    "         hp.normal('gas_logz_mean', -0.5, 0.7),\n",
    "         hp.normal('gas_logu_mean', -3.2, 0.5),\n",
    "         hp.normal('tau_sig', 0.7, 0.2),\n",
    "         hp.normal('const_sig', 0.5, 0.1),\n",
    "         hp.normal('tage_sig', 2.0, 0.5),\n",
    "         hp.normal('fburst_sig', 0.1, 0.1),\n",
    "         hp.normal('tburst_sig', 0.5, 0.1),\n",
    "         hp.normal('logzsol_sig', 0.7, 0.2),\n",
    "         hp.normal('gas_logz_sig', 0.7, 0.2),\n",
    "         hp.normal('gas_logu_sig', 0.5, 0.1), \n",
    "        ]"
   ]
  }
 ],
 "metadata": {
  "kernelspec": {
   "display_name": "Python 3",
   "language": "python",
   "name": "python3"
  },
  "language_info": {
   "codemirror_mode": {
    "name": "ipython",
    "version": 3
   },
   "file_extension": ".py",
   "mimetype": "text/x-python",
   "name": "python",
   "nbconvert_exporter": "python",
   "pygments_lexer": "ipython3",
   "version": "3.7.3"
  }
 },
 "nbformat": 4,
 "nbformat_minor": 2
}
