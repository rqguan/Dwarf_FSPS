{
 "cells": [
  {
   "cell_type": "code",
   "execution_count": 19,
   "metadata": {},
   "outputs": [],
   "source": [
    "import numpy as np\n",
    "import torch\n",
    "from torch.autograd import Variable\n",
    "import torch.nn as nn\n",
    "import torch.nn.functional as F"
   ]
  },
  {
   "cell_type": "code",
   "execution_count": 20,
   "metadata": {},
   "outputs": [],
   "source": [
    "def loss(x,y):\n",
    "    criterion = nn.KLDivLoss()\n",
    "    loss = criterion(x,y)   \n",
    "    print(loss)\n",
    "\n"
   ]
  },
  {
   "cell_type": "code",
   "execution_count": 24,
   "metadata": {},
   "outputs": [],
   "source": [
    "def main():\n",
    "    rand_data = torch.randn(1,1000)\n",
    "\n",
    "    #use same data for both the distributions\n",
    "    a = Variable(rand_data)\n",
    "    b = Variable(rand_data)\n",
    "\n",
    "    a_sm = F.softmax(a)\n",
    "    sum_a = torch.sum(a_sm)\n",
    "\n",
    "    #print (a_sm)\n",
    "    #print(sum_a)\n",
    "\n",
    "    a_lsm = torch.log(a_sm) #F.log_softmax(a)     # 1. used softmax+log  2. used log_softmax\n",
    "    b_sm = F.softmax(b)\n",
    "    # sum_b = torch.sum(b_sm)\n",
    "    # print(b_sm)\n",
    "    # print(sum_b)\n",
    "\n",
    "    criterion = nn.KLDivLoss()\n",
    "\n",
    "    loss = criterion(a_lsm,b_sm)                  # loss is not zero even though both distributions are same\n",
    "\n",
    "    print(loss)\n"
   ]
  },
  {
   "cell_type": "code",
   "execution_count": 41,
   "metadata": {},
   "outputs": [
    {
     "name": "stdout",
     "output_type": "stream",
     "text": [
      "tensor(0.0081)\n"
     ]
    }
   ],
   "source": [
    "rand_data = torch.randn(1,10)\n",
    "a = Variable(rand_data)\n",
    "b = Variable(rand_data)\n",
    "c = torch.tensor([[0.1,0.2,0.2,0.3,0.2]])\n",
    "d = torch.tensor([[0.1,0.2,0.3,0.2,0.2]])\n",
    "loss(c.log(),d)"
   ]
  },
  {
   "cell_type": "code",
   "execution_count": 37,
   "metadata": {},
   "outputs": [
    {
     "data": {
      "text/plain": [
       "tensor([[1, 2, 3, 3, 2, 1]])"
      ]
     },
     "execution_count": 37,
     "metadata": {},
     "output_type": "execute_result"
    }
   ],
   "source": [
    "c"
   ]
  },
  {
   "cell_type": "code",
   "execution_count": null,
   "metadata": {},
   "outputs": [],
   "source": []
  }
 ],
 "metadata": {
  "kernelspec": {
   "display_name": "Python 3",
   "language": "python",
   "name": "python3"
  },
  "language_info": {
   "codemirror_mode": {
    "name": "ipython",
    "version": 3
   },
   "file_extension": ".py",
   "mimetype": "text/x-python",
   "name": "python",
   "nbconvert_exporter": "python",
   "pygments_lexer": "ipython3",
   "version": "3.7.3"
  }
 },
 "nbformat": 4,
 "nbformat_minor": 2
}
