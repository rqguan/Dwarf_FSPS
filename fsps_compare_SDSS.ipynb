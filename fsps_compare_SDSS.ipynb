{
 "cells": [
  {
   "cell_type": "code",
   "execution_count": 1,
   "metadata": {},
   "outputs": [],
   "source": [
    "## 2020-4-13"
   ]
  },
  {
   "cell_type": "code",
   "execution_count": 6,
   "metadata": {},
   "outputs": [
    {
     "name": "stdout",
     "output_type": "stream",
     "text": [
      "The autoreload extension is already loaded. To reload it, use:\n",
      "  %reload_ext autoreload\n"
     ]
    }
   ],
   "source": [
    "%matplotlib inline\n",
    "%load_ext autoreload\n",
    "%autoreload 2\n",
    "# Cell magic method always stays at the top of the cell\n",
    "\n",
    "# Imports from the Python standard library should be at the top\n",
    "import os\n",
    "import copy\n",
    "import pickle\n",
    "import urllib.request\n",
    "\n",
    "# Do not import * unless you know what you are doing\n",
    "import numpy as np \n",
    "\n",
    "import pandas as pd\n",
    "\n",
    "import fsps\n",
    "import sedpy\n",
    "\n",
    "from sedpy.observate import getSED, vac2air, air2vac\n",
    "\n",
    "import matplotlib.pyplot as plt\n",
    "from matplotlib import rc\n",
    "plt.rc('text', usetex=True)\n",
    "\n",
    "import astropy.units as u\n",
    "from astropy.table import Table, Column\n",
    "\n",
    "from specutils import Spectrum1D\n",
    "from specutils import SpectralRegion\n",
    "from specutils.fitting import fit_generic_continuum\n",
    "from specutils.analysis import equivalent_width\n",
    "\n",
    "# re-defining plotting defaults\n",
    "from matplotlib import rcParams\n",
    "\n",
    "\n",
    "from dwarf_models import get_sdss_spectrum, normalize_spectrum_window, \\\n",
    "    deredden_spectrum, compare_sdss_fsps_spectrum, sigmoid_narrow_filter, \\\n",
    "    filters_to_sedpy_format\n"
   ]
  },
  {
   "cell_type": "code",
   "execution_count": 5,
   "metadata": {},
   "outputs": [
    {
     "name": "stdout",
     "output_type": "stream",
     "text": [
      "# There are 5639 SDSS dwarf galaxies\n"
     ]
    }
   ],
   "source": []
  },
  {
   "cell_type": "code",
   "execution_count": null,
   "metadata": {},
   "outputs": [],
   "source": []
  }
 ],
 "metadata": {
  "kernelspec": {
   "display_name": "Python 3",
   "language": "python",
   "name": "python3"
  },
  "language_info": {
   "codemirror_mode": {
    "name": "ipython",
    "version": 3
   },
   "file_extension": ".py",
   "mimetype": "text/x-python",
   "name": "python",
   "nbconvert_exporter": "python",
   "pygments_lexer": "ipython3",
   "version": "3.7.3"
  }
 },
 "nbformat": 4,
 "nbformat_minor": 2
}
